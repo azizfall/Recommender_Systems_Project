{
 "cells": [
  {
   "cell_type": "code",
   "execution_count": 1,
   "id": "liberal-insight",
   "metadata": {},
   "outputs": [
    {
     "name": "stderr",
     "output_type": "stream",
     "text": [
      "C:\\Users\\64800\\Anaconda3\\lib\\site-packages\\numpy\\_distributor_init.py:32: UserWarning: loaded more than 1 DLL from .libs:\n",
      "C:\\Users\\64800\\Anaconda3\\lib\\site-packages\\numpy\\.libs\\libopenblas.GK7GX5KEQ4F6UYO3P26ULGBQYHGQO7J4.gfortran-win_amd64.dll\n",
      "C:\\Users\\64800\\Anaconda3\\lib\\site-packages\\numpy\\.libs\\libopenblas.PYQHXLVVQ7VESDPUVUADXEVJOBGHJPAY.gfortran-win_amd64.dll\n",
      "  stacklevel=1)\n"
     ]
    }
   ],
   "source": [
    "import numpy as np\n",
    "from sklearn.metrics.pairwise import cosine_similarity"
   ]
  },
  {
   "cell_type": "code",
   "execution_count": 2,
   "id": "disciplinary-efficiency",
   "metadata": {},
   "outputs": [],
   "source": [
    "idx2book = np.load('idx2book.npy', allow_pickle=True).item()\n",
    "info_dict = np.load('info_dict.npy', allow_pickle=True).item()"
   ]
  },
  {
   "cell_type": "code",
   "execution_count": 3,
   "id": "nervous-basic",
   "metadata": {},
   "outputs": [],
   "source": [
    "embed_content = np.load('book_embeds_content.npy')\n",
    "embed_collaborative = np.load('book_embeds_collaborative.npy')"
   ]
  },
  {
   "cell_type": "code",
   "execution_count": 48,
   "id": "stock-paragraph",
   "metadata": {},
   "outputs": [],
   "source": [
    "# user_id: selected user,   int\n",
    "# info_dict: information about books user already read,   {user_id: {book_id:rating}}\n",
    "# embed: book embeddings,   (num_books, num_latent_features)\n",
    "# topn_read: topn rated books that user already read,   int\n",
    "# topn_similar: topn similar book to books that user already read,   int\n",
    "# topn_recommend: topn recommendations to user,   int\n",
    "\n",
    "def make_recommendation(user_id, info_dict, idx2book, embed_content, embed_collaborative, topn_read, topn_similar, topn_recommend):\n",
    "    score_dict = {}\n",
    "\n",
    "    user_reading = info_dict[user_id]\n",
    "    user_read = {}\n",
    "    for item in user_reading:\n",
    "        user_read.update(item)\n",
    "    topn_book_read = dict(sorted(user_read.items(), key=lambda x: x[1], reverse=True)[:topn_read])  # {book_id:rating}\n",
    "\n",
    "    for book_id in topn_book_read:\n",
    "        read_book_rating = topn_book_read[book_id]\n",
    "        all_similarity = (cosine_similarity(embed_content[1].reshape(1,-1), embed_content).squeeze() + cosine_similarity(embed_collaborative[1].reshape(1,-1), embed_collaborative).squeeze()) / 2\n",
    "        topn_similar_books = np.argsort(all_similarity)[::-1][1:topn_similar+1]\n",
    "        topn_book_similarity = all_similarity[topn_similar_books]\n",
    "        \n",
    "        similarity_dict = {item[0]: item[1] for item in zip(topn_similar_books, topn_book_similarity)}\n",
    "        for book in similarity_dict:\n",
    "            candidate_book_similarity = similarity_dict[book]\n",
    "            if book in score_dict:\n",
    "                score_dict[book] += read_book_rating * candidate_book_similarity\n",
    "            else:\n",
    "                score_dict[book] = read_book_rating * candidate_book_similarity\n",
    "\n",
    "    recommend_dict = dict(sorted(score_dict.items(), key=lambda x: x[1], reverse=True)[:topn_recommend])\n",
    "    recommendation_idx = list(recommend_dict.keys())\n",
    "    recommendation = [idx2book[idx] for idx in recommendation_idx]\n",
    "    return recommendation, recommend_dict"
   ]
  },
  {
   "cell_type": "code",
   "execution_count": 49,
   "id": "accomplished-judge",
   "metadata": {},
   "outputs": [],
   "source": [
    "# user_id: selected user,   int\n",
    "# info_dict: information about books user already read,   {user_id: {book_id:rating}}\n",
    "# embed: book embeddings,   (num_books, num_latent_features)\n",
    "# topn_read: topn rated books that user already read,   int\n",
    "# topn_similar: topn similar book to books that user already read,   int\n",
    "# topn_recommend: topn recommendations to user,   int\n",
    "user_id = 15\n",
    "topn_read = 100\n",
    "topn_similarity = 100\n",
    "topn_recommend = 10\n",
    "books, score_dict = make_recommendation(user_id, info_dict, idx2book, embed_content, embed_collaborative, topn_read, topn_similarity, topn_recommend)"
   ]
  },
  {
   "cell_type": "code",
   "execution_count": 50,
   "id": "prime-finance",
   "metadata": {},
   "outputs": [
    {
     "data": {
      "text/plain": [
       "['The Short Victorious War (Honor Harrington Series, Book 3)',\n",
       " 'High Adventure in the Great Outdoors',\n",
       " 'Not a Sparrow Falls',\n",
       " 'Blood of the Fold (Sword of Truth, Book 3)',\n",
       " 'I Am the Cheese (Laurel-Leaf Library)',\n",
       " 'My Favorite Horror Story',\n",
       " 'Among the Hidden',\n",
       " 'All Around the World Cookbook',\n",
       " 'Gift from the sea',\n",
       " \"The Bad Girl's Guide to the Party Life\"]"
      ]
     },
     "execution_count": 50,
     "metadata": {},
     "output_type": "execute_result"
    }
   ],
   "source": [
    "books"
   ]
  },
  {
   "cell_type": "code",
   "execution_count": 51,
   "id": "governing-encoding",
   "metadata": {},
   "outputs": [
    {
     "data": {
      "text/plain": [
       "{2628: 7.4992163479328156,\n",
       " 18849: 7.498330771923065,\n",
       " 29475: 7.498186826705933,\n",
       " 25091: 7.498127818107605,\n",
       " 46692: 7.498052716255188,\n",
       " 7279: 7.498019188642502,\n",
       " 12229: 7.497948110103607,\n",
       " 18758: 7.497901618480682,\n",
       " 20375: 7.497891783714294,\n",
       " 8721: 7.497866302728653}"
      ]
     },
     "execution_count": 51,
     "metadata": {},
     "output_type": "execute_result"
    }
   ],
   "source": [
    "score_dict"
   ]
  },
  {
   "cell_type": "code",
   "execution_count": null,
   "id": "skilled-wholesale",
   "metadata": {},
   "outputs": [],
   "source": []
  }
 ],
 "metadata": {
  "kernelspec": {
   "display_name": "Python 3",
   "language": "python",
   "name": "python3"
  },
  "language_info": {
   "codemirror_mode": {
    "name": "ipython",
    "version": 3
   },
   "file_extension": ".py",
   "mimetype": "text/x-python",
   "name": "python",
   "nbconvert_exporter": "python",
   "pygments_lexer": "ipython3",
   "version": "3.7.10"
  }
 },
 "nbformat": 4,
 "nbformat_minor": 5
}
